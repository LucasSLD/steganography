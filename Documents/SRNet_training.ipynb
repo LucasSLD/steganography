{
 "cells": [
  {
   "cell_type": "markdown",
   "metadata": {},
   "source": [
    "*This file contains informations about what needs to be done for the transfer learning of SRNet using the code provided by Jan Butora.*\n",
    "\n",
    "## <u>LitModel.py</u><br>\n",
    "This file contains the full model used for transfer learning on SRNet. It follows LightningModule way of organizing the code.\n",
    "\n",
    "### Learning rate\n",
    "The way the learning rate evolves during training can be set with *lr_scheduler_name* parameter (line 201 configure_optimizers function).\n",
    "\n",
    "### IL_train & IL_test\n",
    "I must update the **WORK_DIR** constant used in this file (it is used line 266 and 268).<br>\n",
    "The files IL_val.p, IL_train.p and IL_test.p should be in $WORK/DataBase/BOSSBase512/<br>\n",
    "Either I do all changes in code by changing hard coded path with the path of my directories and I change **WORK_DIR** or I just change **WORK_DIR** and modify my folder structure. <span style=\"color: red\">**I will probably change the code and not the directories.**</span>\n",
    "\n",
    "## <u>IL_train.p, IL_val.p & IL_test.p</u>\n",
    "This files contains the names of the files in binary that are used for training, validation and test respectively. They have the \".pgm\" extension at the end which needs to be removed if we work with other file extension.\n",
    "I'll probably need to code something myself in order to load my .pt files for the training.\n",
    "\n",
    "~~~python\n",
    "# Loading and putting file names in IL_train\n",
    "import pickle\n",
    "IL_train = []\n",
    "with open(path_to_IL_train.p) as handle:\n",
    "    IL_train.extend(pickle.load(handle))\n",
    "\n",
    ">> print(IL_train[:5])\n",
    "['8373.pgm', '4708.pgm', '8632.pgm', '7926.pgm', '1061.pgm']\n",
    "~~~\n",
    "\n",
    "## How is the difference between cover and stego made ??\n",
    "IL_train only contains names but doesn't indicate if the file is stego or cover. I don't know where the difference is made in the code."
   ]
  },
  {
   "cell_type": "markdown",
   "metadata": {},
   "source": [
    "## SRNet training organization\n",
    "### Folder structure\n"
   ]
  }
 ],
 "metadata": {
  "language_info": {
   "name": "python"
  }
 },
 "nbformat": 4,
 "nbformat_minor": 2
}
