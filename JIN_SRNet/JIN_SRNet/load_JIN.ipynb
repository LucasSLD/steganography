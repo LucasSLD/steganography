{
 "cells": [
  {
   "cell_type": "code",
   "execution_count": 1,
   "id": "481a32d5-932e-43a5-8299-eb74075079b8",
   "metadata": {},
   "outputs": [],
   "source": [
    "import torch\n",
    "from SRNet import SRNet"
   ]
  },
  {
   "cell_type": "code",
   "execution_count": 2,
   "id": "d57e7701-c117-4688-ab92-cc4ea57341e9",
   "metadata": {},
   "outputs": [],
   "source": [
    "JIN_PATH = 'epoch=56_val_wAUC=0.8921.pt'\n",
    "model = SRNet(3, 2)"
   ]
  },
  {
   "cell_type": "code",
   "execution_count": null,
   "id": "54baa94a-6722-4c00-b90a-67e0533053c9",
   "metadata": {},
   "outputs": [],
   "source": [
    "model.load_state_dict(torch.load(JIN_PATH))\n",
    "# Freeze parameters for evaluation\n",
    "model.eval()\n"
   ]
  },
  {
   "cell_type": "code",
   "execution_count": null,
   "id": "db3659ff-b5f8-44c7-bdef-5486aa17b309",
   "metadata": {},
   "outputs": [],
   "source": []
  }
 ],
 "metadata": {
  "kernelspec": {
   "display_name": "Python 3",
   "language": "python",
   "name": "python3"
  },
  "language_info": {
   "codemirror_mode": {
    "name": "ipython",
    "version": 3
   },
   "file_extension": ".py",
   "mimetype": "text/x-python",
   "name": "python",
   "nbconvert_exporter": "python",
   "pygments_lexer": "ipython3",
   "version": "3.8.8"
  }
 },
 "nbformat": 4,
 "nbformat_minor": 5
}
