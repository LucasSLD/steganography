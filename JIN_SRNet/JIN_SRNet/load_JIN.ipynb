{
 "cells": [
  {
   "cell_type": "code",
   "execution_count": 41,
   "id": "481a32d5-932e-43a5-8299-eb74075079b8",
   "metadata": {},
   "outputs": [],
   "source": [
    "import torch\n",
    "from SRNet import SRNet\n",
    "import numpy as np\n",
    "from PIL import Image\n",
    "from torchvision import transforms\n",
    "from torch import unsqueeze\n",
    "import torch"
   ]
  },
  {
   "cell_type": "code",
   "execution_count": 15,
   "id": "d57e7701-c117-4688-ab92-cc4ea57341e9",
   "metadata": {},
   "outputs": [],
   "source": [
    "JIN_PATH = 'epoch=56_val_wAUC=0.8921.pt'\n",
    "model = SRNet(3, 2)"
   ]
  },
  {
   "cell_type": "code",
   "execution_count": 50,
   "id": "54baa94a-6722-4c00-b90a-67e0533053c9",
   "metadata": {},
   "outputs": [
    {
     "data": {
      "text/plain": [
       "tensor([[ 0.7189, -0.7185]])"
      ]
     },
     "execution_count": 50,
     "metadata": {},
     "output_type": "execute_result"
    }
   ],
   "source": [
    "model.load_state_dict(torch.load(JIN_PATH))\n",
    "# Freeze parameters for evaluation\n",
    "with torch.no_grad():\n",
    "    model.eval()\n",
    "\n",
    "    Tensor = transforms.ToTensor() \n",
    "    img = Image.open(\"../BossBase-1.01-stega-04bits/999.jpg\")\n",
    "    img_t = unsqueeze(Tensor(img),0)\n",
    "\n",
    "    result = model(img_t)\n",
    "result"
   ]
  },
  {
   "attachments": {},
   "cell_type": "markdown",
   "id": "11f00b40",
   "metadata": {},
   "source": [
    "How to interpret the result ?</br>\n",
    "How to fine tune the model ?</br>\n",
    "Is there a validation set or only train and test set ?</br>\n",
    "gauche = cover</br>\n",
    "ne pas utiliser de jpg (stocker directement un numpy array)\n",
    "tensor board pour visualiser l'évolution de la loss pendant le fine tune"
   ]
  }
 ],
 "metadata": {
  "kernelspec": {
   "display_name": "Python 3",
   "language": "python",
   "name": "python3"
  },
  "language_info": {
   "codemirror_mode": {
    "name": "ipython",
    "version": 3
   },
   "file_extension": ".py",
   "mimetype": "text/x-python",
   "name": "python",
   "nbconvert_exporter": "python",
   "pygments_lexer": "ipython3",
   "version": "3.11.6"
  }
 },
 "nbformat": 4,
 "nbformat_minor": 5
}
