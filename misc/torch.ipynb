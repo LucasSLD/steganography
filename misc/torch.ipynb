{
 "cells": [
  {
   "cell_type": "code",
   "execution_count": 1,
   "metadata": {},
   "outputs": [],
   "source": [
    "import torch"
   ]
  },
  {
   "attachments": {},
   "cell_type": "markdown",
   "metadata": {},
   "source": [
    "# Saving and loading tensors"
   ]
  },
  {
   "cell_type": "code",
   "execution_count": 4,
   "metadata": {},
   "outputs": [
    {
     "data": {
      "text/plain": [
       "tensor([[[ 0,  1,  2,  3],\n",
       "         [ 4,  5,  6,  7],\n",
       "         [ 8,  9, 10, 11]],\n",
       "\n",
       "        [[12, 13, 14, 15],\n",
       "         [16, 17, 18, 19],\n",
       "         [20, 21, 22, 23]]])"
      ]
     },
     "execution_count": 4,
     "metadata": {},
     "output_type": "execute_result"
    }
   ],
   "source": [
    "t = torch.arange(0,24).reshape(2,3,4)\n",
    "t"
   ]
  },
  {
   "cell_type": "code",
   "execution_count": 6,
   "metadata": {},
   "outputs": [
    {
     "name": "stdout",
     "output_type": "stream",
     "text": [
      "\u001b[0;31mSignature:\u001b[0m\n",
      "\u001b[0mtorch\u001b[0m\u001b[0;34m.\u001b[0m\u001b[0msave\u001b[0m\u001b[0;34m(\u001b[0m\u001b[0;34m\u001b[0m\n",
      "\u001b[0;34m\u001b[0m    \u001b[0mobj\u001b[0m\u001b[0;34m:\u001b[0m \u001b[0mobject\u001b[0m\u001b[0;34m,\u001b[0m\u001b[0;34m\u001b[0m\n",
      "\u001b[0;34m\u001b[0m    \u001b[0mf\u001b[0m\u001b[0;34m:\u001b[0m \u001b[0mUnion\u001b[0m\u001b[0;34m[\u001b[0m\u001b[0mstr\u001b[0m\u001b[0;34m,\u001b[0m \u001b[0mos\u001b[0m\u001b[0;34m.\u001b[0m\u001b[0mPathLike\u001b[0m\u001b[0;34m,\u001b[0m \u001b[0mBinaryIO\u001b[0m\u001b[0;34m,\u001b[0m \u001b[0mIO\u001b[0m\u001b[0;34m[\u001b[0m\u001b[0mbytes\u001b[0m\u001b[0;34m]\u001b[0m\u001b[0;34m]\u001b[0m\u001b[0;34m,\u001b[0m\u001b[0;34m\u001b[0m\n",
      "\u001b[0;34m\u001b[0m    \u001b[0mpickle_module\u001b[0m\u001b[0;34m:\u001b[0m \u001b[0mAny\u001b[0m \u001b[0;34m=\u001b[0m \u001b[0;34m<\u001b[0m\u001b[0mmodule\u001b[0m \u001b[0;34m'pickle'\u001b[0m \u001b[0;32mfrom\u001b[0m \u001b[0;34m'/home/lucas/.conda/envs/research_project/lib/python3.11/pickle.py'\u001b[0m\u001b[0;34m>\u001b[0m\u001b[0;34m,\u001b[0m\u001b[0;34m\u001b[0m\n",
      "\u001b[0;34m\u001b[0m    \u001b[0mpickle_protocol\u001b[0m\u001b[0;34m:\u001b[0m \u001b[0mint\u001b[0m \u001b[0;34m=\u001b[0m \u001b[0;36m2\u001b[0m\u001b[0;34m,\u001b[0m\u001b[0;34m\u001b[0m\n",
      "\u001b[0;34m\u001b[0m    \u001b[0m_use_new_zipfile_serialization\u001b[0m\u001b[0;34m:\u001b[0m \u001b[0mbool\u001b[0m \u001b[0;34m=\u001b[0m \u001b[0;32mTrue\u001b[0m\u001b[0;34m,\u001b[0m\u001b[0;34m\u001b[0m\n",
      "\u001b[0;34m\u001b[0m    \u001b[0m_disable_byteorder_record\u001b[0m\u001b[0;34m:\u001b[0m \u001b[0mbool\u001b[0m \u001b[0;34m=\u001b[0m \u001b[0;32mFalse\u001b[0m\u001b[0;34m,\u001b[0m\u001b[0;34m\u001b[0m\n",
      "\u001b[0;34m\u001b[0m\u001b[0;34m)\u001b[0m \u001b[0;34m->\u001b[0m \u001b[0;32mNone\u001b[0m\u001b[0;34m\u001b[0m\u001b[0;34m\u001b[0m\u001b[0m\n",
      "\u001b[0;31mDocstring:\u001b[0m\n",
      "save(obj, f, pickle_module=pickle, pickle_protocol=DEFAULT_PROTOCOL, _use_new_zipfile_serialization=True)\n",
      "\n",
      "Saves an object to a disk file.\n",
      "\n",
      "See also: :ref:`saving-loading-tensors`\n",
      "\n",
      "Args:\n",
      "    obj: saved object\n",
      "    f: a file-like object (has to implement write and flush) or a string or\n",
      "       os.PathLike object containing a file name\n",
      "    pickle_module: module used for pickling metadata and objects\n",
      "    pickle_protocol: can be specified to override the default protocol\n",
      "\n",
      ".. note::\n",
      "    A common PyTorch convention is to save tensors using .pt file extension.\n",
      "\n",
      ".. note::\n",
      "    PyTorch preserves storage sharing across serialization. See\n",
      "    :ref:`preserve-storage-sharing` for more details.\n",
      "\n",
      ".. note::\n",
      "    The 1.6 release of PyTorch switched ``torch.save`` to use a new\n",
      "    zipfile-based file format. ``torch.load`` still retains the ability to\n",
      "    load files in the old format. If for any reason you want ``torch.save``\n",
      "    to use the old format, pass the kwarg ``_use_new_zipfile_serialization=False``.\n",
      "\n",
      "Example:\n",
      "    >>> # xdoctest: +SKIP(\"makes cwd dirty\")\n",
      "    >>> # Save to file\n",
      "    >>> x = torch.tensor([0, 1, 2, 3, 4])\n",
      "    >>> torch.save(x, 'tensor.pt')\n",
      "    >>> # Save to io.BytesIO buffer\n",
      "    >>> buffer = io.BytesIO()\n",
      "    >>> torch.save(x, buffer)\n",
      "\u001b[0;31mFile:\u001b[0m      ~/.conda/envs/research_project/lib/python3.11/site-packages/torch/serialization.py\n",
      "\u001b[0;31mType:\u001b[0m      function"
     ]
    }
   ],
   "source": [
    "?torch.save"
   ]
  },
  {
   "cell_type": "code",
   "execution_count": 8,
   "metadata": {},
   "outputs": [],
   "source": [
    "torch.save(t,\"./t.pt\")"
   ]
  },
  {
   "cell_type": "code",
   "execution_count": 9,
   "metadata": {},
   "outputs": [
    {
     "name": "stdout",
     "output_type": "stream",
     "text": [
      "\u001b[0;31mSignature:\u001b[0m\n",
      "\u001b[0mtorch\u001b[0m\u001b[0;34m.\u001b[0m\u001b[0mload\u001b[0m\u001b[0;34m(\u001b[0m\u001b[0;34m\u001b[0m\n",
      "\u001b[0;34m\u001b[0m    \u001b[0mf\u001b[0m\u001b[0;34m:\u001b[0m \u001b[0mUnion\u001b[0m\u001b[0;34m[\u001b[0m\u001b[0mstr\u001b[0m\u001b[0;34m,\u001b[0m \u001b[0mos\u001b[0m\u001b[0;34m.\u001b[0m\u001b[0mPathLike\u001b[0m\u001b[0;34m,\u001b[0m \u001b[0mBinaryIO\u001b[0m\u001b[0;34m,\u001b[0m \u001b[0mIO\u001b[0m\u001b[0;34m[\u001b[0m\u001b[0mbytes\u001b[0m\u001b[0;34m]\u001b[0m\u001b[0;34m]\u001b[0m\u001b[0;34m,\u001b[0m\u001b[0;34m\u001b[0m\n",
      "\u001b[0;34m\u001b[0m    \u001b[0mmap_location\u001b[0m\u001b[0;34m:\u001b[0m \u001b[0mUnion\u001b[0m\u001b[0;34m[\u001b[0m\u001b[0mCallable\u001b[0m\u001b[0;34m[\u001b[0m\u001b[0;34m[\u001b[0m\u001b[0mtorch\u001b[0m\u001b[0;34m.\u001b[0m\u001b[0mTensor\u001b[0m\u001b[0;34m,\u001b[0m \u001b[0mstr\u001b[0m\u001b[0;34m]\u001b[0m\u001b[0;34m,\u001b[0m \u001b[0mtorch\u001b[0m\u001b[0;34m.\u001b[0m\u001b[0mTensor\u001b[0m\u001b[0;34m]\u001b[0m\u001b[0;34m,\u001b[0m \u001b[0mtorch\u001b[0m\u001b[0;34m.\u001b[0m\u001b[0mdevice\u001b[0m\u001b[0;34m,\u001b[0m \u001b[0mstr\u001b[0m\u001b[0;34m,\u001b[0m \u001b[0mDict\u001b[0m\u001b[0;34m[\u001b[0m\u001b[0mstr\u001b[0m\u001b[0;34m,\u001b[0m \u001b[0mstr\u001b[0m\u001b[0;34m]\u001b[0m\u001b[0;34m,\u001b[0m \u001b[0mNoneType\u001b[0m\u001b[0;34m]\u001b[0m \u001b[0;34m=\u001b[0m \u001b[0;32mNone\u001b[0m\u001b[0;34m,\u001b[0m\u001b[0;34m\u001b[0m\n",
      "\u001b[0;34m\u001b[0m    \u001b[0mpickle_module\u001b[0m\u001b[0;34m:\u001b[0m \u001b[0mAny\u001b[0m \u001b[0;34m=\u001b[0m \u001b[0;32mNone\u001b[0m\u001b[0;34m,\u001b[0m\u001b[0;34m\u001b[0m\n",
      "\u001b[0;34m\u001b[0m    \u001b[0;34m*\u001b[0m\u001b[0;34m,\u001b[0m\u001b[0;34m\u001b[0m\n",
      "\u001b[0;34m\u001b[0m    \u001b[0mweights_only\u001b[0m\u001b[0;34m:\u001b[0m \u001b[0mbool\u001b[0m \u001b[0;34m=\u001b[0m \u001b[0;32mFalse\u001b[0m\u001b[0;34m,\u001b[0m\u001b[0;34m\u001b[0m\n",
      "\u001b[0;34m\u001b[0m    \u001b[0mmmap\u001b[0m\u001b[0;34m:\u001b[0m \u001b[0mOptional\u001b[0m\u001b[0;34m[\u001b[0m\u001b[0mbool\u001b[0m\u001b[0;34m]\u001b[0m \u001b[0;34m=\u001b[0m \u001b[0;32mNone\u001b[0m\u001b[0;34m,\u001b[0m\u001b[0;34m\u001b[0m\n",
      "\u001b[0;34m\u001b[0m    \u001b[0;34m**\u001b[0m\u001b[0mpickle_load_args\u001b[0m\u001b[0;34m:\u001b[0m \u001b[0mAny\u001b[0m\u001b[0;34m,\u001b[0m\u001b[0;34m\u001b[0m\n",
      "\u001b[0;34m\u001b[0m\u001b[0;34m)\u001b[0m \u001b[0;34m->\u001b[0m \u001b[0mAny\u001b[0m\u001b[0;34m\u001b[0m\u001b[0;34m\u001b[0m\u001b[0m\n",
      "\u001b[0;31mDocstring:\u001b[0m\n",
      "load(f, map_location=None, pickle_module=pickle, *, weights_only=False, mmap=None, **pickle_load_args)\n",
      "\n",
      "Loads an object saved with :func:`torch.save` from a file.\n",
      "\n",
      ":func:`torch.load` uses Python's unpickling facilities but treats storages,\n",
      "which underlie tensors, specially. They are first deserialized on the\n",
      "CPU and are then moved to the device they were saved from. If this fails\n",
      "(e.g. because the run time system doesn't have certain devices), an exception\n",
      "is raised. However, storages can be dynamically remapped to an alternative\n",
      "set of devices using the :attr:`map_location` argument.\n",
      "\n",
      "If :attr:`map_location` is a callable, it will be called once for each serialized\n",
      "storage with two arguments: storage and location. The storage argument\n",
      "will be the initial deserialization of the storage, residing on the CPU.\n",
      "Each serialized storage has a location tag associated with it which\n",
      "identifies the device it was saved from, and this tag is the second\n",
      "argument passed to :attr:`map_location`. The builtin location tags are ``'cpu'``\n",
      "for CPU tensors and ``'cuda:device_id'`` (e.g. ``'cuda:2'``) for CUDA tensors.\n",
      ":attr:`map_location` should return either ``None`` or a storage. If\n",
      ":attr:`map_location` returns a storage, it will be used as the final deserialized\n",
      "object, already moved to the right device. Otherwise, :func:`torch.load` will\n",
      "fall back to the default behavior, as if :attr:`map_location` wasn't specified.\n",
      "\n",
      "If :attr:`map_location` is a :class:`torch.device` object or a string containing\n",
      "a device tag, it indicates the location where all tensors should be loaded.\n",
      "\n",
      "Otherwise, if :attr:`map_location` is a dict, it will be used to remap location tags\n",
      "appearing in the file (keys), to ones that specify where to put the\n",
      "storages (values).\n",
      "\n",
      "User extensions can register their own location tags and tagging and\n",
      "deserialization methods using :func:`torch.serialization.register_package`.\n",
      "\n",
      "Args:\n",
      "    f: a file-like object (has to implement :meth:`read`, :meth:`readline`, :meth:`tell`, and :meth:`seek`),\n",
      "        or a string or os.PathLike object containing a file name\n",
      "    map_location: a function, :class:`torch.device`, string or a dict specifying how to remap storage\n",
      "        locations\n",
      "    pickle_module: module used for unpickling metadata and objects (has to\n",
      "        match the :attr:`pickle_module` used to serialize file)\n",
      "    weights_only: Indicates whether unpickler should be restricted to\n",
      "        loading only tensors, primitive types and dictionaries\n",
      "    mmap: Indicates whether the file should be mmaped rather than loading all the storages into memory.\n",
      "        Typically, tensor storages in the file will first be moved from disk to CPU memory, after which they\n",
      "        are moved to the location that they were tagged with when saving, or specified by ``map_location``. This\n",
      "        second step is a no-op if the final location is CPU. When the ``mmap`` flag is set, instead of copying the\n",
      "        tensor storages from disk to CPU memory in the first step, ``f`` is mmaped.\n",
      "    pickle_load_args: (Python 3 only) optional keyword arguments passed over to\n",
      "        :func:`pickle_module.load` and :func:`pickle_module.Unpickler`, e.g.,\n",
      "        :attr:`errors=...`.\n",
      "\n",
      ".. warning::\n",
      "    :func:`torch.load()` unless `weights_only` parameter is set to `True`,\n",
      "    uses ``pickle`` module implicitly, which is known to be insecure.\n",
      "    It is possible to construct malicious pickle data which will execute arbitrary code\n",
      "    during unpickling. Never load data that could have come from an untrusted\n",
      "    source in an unsafe mode, or that could have been tampered with. **Only load data you trust**.\n",
      "\n",
      ".. note::\n",
      "    When you call :func:`torch.load()` on a file which contains GPU tensors, those tensors\n",
      "    will be loaded to GPU by default. You can call ``torch.load(.., map_location='cpu')``\n",
      "    and then :meth:`load_state_dict` to avoid GPU RAM surge when loading a model checkpoint.\n",
      "\n",
      ".. note::\n",
      "    By default, we decode byte strings as ``utf-8``.  This is to avoid a common error\n",
      "    case ``UnicodeDecodeError: 'ascii' codec can't decode byte 0x...``\n",
      "    when loading files saved by Python 2 in Python 3.  If this default\n",
      "    is incorrect, you may use an extra :attr:`encoding` keyword argument to specify how\n",
      "    these objects should be loaded, e.g., :attr:`encoding='latin1'` decodes them\n",
      "    to strings using ``latin1`` encoding, and :attr:`encoding='bytes'` keeps them\n",
      "    as byte arrays which can be decoded later with ``byte_array.decode(...)``.\n",
      "\n",
      "Example:\n",
      "    >>> # xdoctest: +SKIP(\"undefined filepaths\")\n",
      "    >>> torch.load('tensors.pt')\n",
      "    # Load all tensors onto the CPU\n",
      "    >>> torch.load('tensors.pt', map_location=torch.device('cpu'))\n",
      "    # Load all tensors onto the CPU, using a function\n",
      "    >>> torch.load('tensors.pt', map_location=lambda storage, loc: storage)\n",
      "    # Load all tensors onto GPU 1\n",
      "    >>> torch.load('tensors.pt', map_location=lambda storage, loc: storage.cuda(1))\n",
      "    # Map tensors from GPU 1 to GPU 0\n",
      "    >>> torch.load('tensors.pt', map_location={'cuda:1': 'cuda:0'})\n",
      "    # Load tensor from io.BytesIO object\n",
      "    >>> with open('tensor.pt', 'rb') as f:\n",
      "    ...     buffer = io.BytesIO(f.read())\n",
      "    >>> torch.load(buffer)\n",
      "    # Load a module with 'ascii' encoding for unpickling\n",
      "    >>> torch.load('module.pt', encoding='ascii')\n",
      "\u001b[0;31mFile:\u001b[0m      ~/.conda/envs/research_project/lib/python3.11/site-packages/torch/serialization.py\n",
      "\u001b[0;31mType:\u001b[0m      function"
     ]
    }
   ],
   "source": [
    "?torch.load"
   ]
  },
  {
   "cell_type": "code",
   "execution_count": 21,
   "metadata": {},
   "outputs": [
    {
     "data": {
      "text/plain": [
       "-1"
      ]
     },
     "execution_count": 21,
     "metadata": {},
     "output_type": "execute_result"
    }
   ],
   "source": [
    "t1 = torch.load(\"./t.pt\") # load tensor on CPU\n",
    "t1.get_device()"
   ]
  },
  {
   "cell_type": "code",
   "execution_count": 20,
   "metadata": {},
   "outputs": [
    {
     "data": {
      "text/plain": [
       "0"
      ]
     },
     "execution_count": 20,
     "metadata": {},
     "output_type": "execute_result"
    }
   ],
   "source": [
    "t2 = torch.load(\"./t.pt\" ).cuda() # load tensor on GPU 0 (GTX 1650)\n",
    "t2.get_device() "
   ]
  }
 ],
 "metadata": {
  "kernelspec": {
   "display_name": "research_project",
   "language": "python",
   "name": "python3"
  },
  "language_info": {
   "codemirror_mode": {
    "name": "ipython",
    "version": 3
   },
   "file_extension": ".py",
   "mimetype": "text/x-python",
   "name": "python",
   "nbconvert_exporter": "python",
   "pygments_lexer": "ipython3",
   "version": "3.11.6"
  },
  "orig_nbformat": 4
 },
 "nbformat": 4,
 "nbformat_minor": 2
}
